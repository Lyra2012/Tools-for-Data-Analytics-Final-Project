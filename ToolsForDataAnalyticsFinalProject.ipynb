{
 "cells": [
  {
   "cell_type": "markdown",
   "id": "f6a951a9-2a3f-4670-ab3b-af8ea1131fa6",
   "metadata": {},
   "source": [
    "# Tools For Data Science Final Project"
   ]
  },
  {
   "cell_type": "markdown",
   "id": "c6665a95-701b-4971-a9b1-08d094e9d724",
   "metadata": {},
   "source": [
    "#### This is an introduction to the final project for the second module of the IBM Data Science Professional Certificate"
   ]
  },
  {
   "cell_type": "markdown",
   "id": "4292a8be-58b9-40fa-afda-03e5a559facf",
   "metadata": {},
   "source": [
    "##### Some of the Most Popular Data Science Languages include: \n",
    "1. Python\n",
    "2. R \n",
    "3. SQL\n",
    "4. JavaScript\n",
    "5. Java\n",
    "6. C/C++\n",
    "7. MATLAB\n",
    "8. Scala\n",
    "9. Julia\n",
    "10. SAS"
   ]
  },
  {
   "cell_type": "markdown",
   "id": "4f39757f-f406-422f-8d44-956250baae0d",
   "metadata": {},
   "source": [
    "##### Some of the Most Popular Data Science Libraries include:\n",
    "1. Numpy for scientific computing and performing basic and advanced array operations\n",
    "2. SciPy for scientific programming projects and great for numerical routines such as numerical optimizations, integrations, and others in submodules\n",
    "3. Pandas for work with labeled or relational data  and allows for the converting of data structures into DataFrame objects, handling missing data, adding/deleting objects from the DataFrame, imputing missing files, and plotting data\n",
    "4. Keras for building neural networks and modeling\n",
    "5. Sci-Kit Learn for Data Science projects based in Python\n",
    "6. PyTorch for data scientists who want to perform deep learning tasks\n",
    "7. TensorFlow for machine learning and deep learning\n",
    "8. Matplotlib for for generating data visualizations of two-dimensional diagrams and graphs\n",
    "9. Scrapy for building crawling programs that retrieve structured data from the web"
   ]
  },
  {
   "cell_type": "markdown",
   "id": "dfc2ba53-4bd3-4170-ab16-d137f6934279",
   "metadata": {},
   "source": [
    "|Data |Science |Tools |\n",
    "|------------------|:------------------:|----------------:|\n",
    "| Jupyter Notebooks|MATLAB              |Excel            |\n",
    "|Apache Spark      |Tableau             |Python           |"
   ]
  },
  {
   "cell_type": "markdown",
   "id": "e92997e5-efcb-4a0b-a09b-df8c00b3f18f",
   "metadata": {},
   "source": [
    "1+1=2; 1+2=3; 1+3=4; 1+4=5..."
   ]
  },
  {
   "cell_type": "code",
   "execution_count": null,
   "id": "bce0e19a-1bea-47a0-a68d-2e76b02159f8",
   "metadata": {},
   "outputs": [],
   "source": [
    "1+2+2*5"
   ]
  },
  {
   "cell_type": "code",
   "execution_count": 31,
   "id": "2352499d-5438-409c-ad66-491baa005d10",
   "metadata": {
    "tags": []
   },
   "outputs": [],
   "source": [
    "def convert(hours):\n",
    "    hours = minutes // 60\n",
    "    minutes = 340"
   ]
  },
  {
   "cell_type": "markdown",
   "id": "0c1ac465-81e3-45bc-9f0c-28a13a7a4ce4",
   "metadata": {
    "tags": []
   },
   "source": [
    "Objectives of this Assignment Included: \n",
    "1. Markdown Cells\n",
    "2. Lists\n",
    "3. Tables\n",
    "4. Cells\n",
    "5. Math\n",
    "6. Code"
   ]
  },
  {
   "cell_type": "markdown",
   "id": "58764245-bf45-4a33-98b2-d444f78c65d0",
   "metadata": {
    "tags": []
   },
   "source": [
    "By: Laura Hultquist"
   ]
  },